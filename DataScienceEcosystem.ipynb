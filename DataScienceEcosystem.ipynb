{
 "cells": [
  {
   "cell_type": "markdown",
   "id": "d0116ec5-a7f5-4367-9201-f0d09fd7ad6e",
   "metadata": {
    "tags": []
   },
   "source": [
    "# Data Science Tools and Ecosystem"
   ]
  },
  {
   "cell_type": "markdown",
   "id": "9b2d2dda-a68b-4984-a654-75a84ebcefc0",
   "metadata": {},
   "source": [
    "In this notebook, Data Science Tools and Ecosystem are summarized."
   ]
  },
  {
   "cell_type": "markdown",
   "id": "e37581d2-d59e-4d04-8d74-69b2c5c14756",
   "metadata": {
    "tags": []
   },
   "source": [
    "###    Some of the popular languages that Data Scientists use are:\n",
    "1. Python\n",
    "2. Scala\n",
    "3. R language"
   ]
  },
  {
   "cell_type": "markdown",
   "id": "255e0c01-d365-47f0-acf8-74f5baaf595a",
   "metadata": {},
   "source": [
    "### Some of the commonly used libraries used by Data Scientists include:\n",
    "1. ggplot\n",
    "2. Ggally\n",
    "3. NumPy\n",
    "4. Matplotlib"
   ]
  },
  {
   "cell_type": "markdown",
   "source": [
    "| Tools | Data science tools |\n",
    "| ------------- | --------------|\n",
    "| Data management | MySQL, PostgreSQL, MongoDB |\n",
    "| Data integration and transformation | Apache AirFlow, KubeFlow, Apache Kafka |\n",
    "| Data visualization | Pixie Dust, Hue, Kibana, and Apache Superset |\n",
    "| Model deployment | Apache PredictionIO, Seldon, Kubernetes, Redhat OpenShift |\n",
    "| Model monitoring | ModelDB, Prometheus, IBM AI Fairness 360, IBM Adversarial Robustness 360 Toolbox |\n",
    "| Code asset management | Git, GitHub, GitLab, and Bitbucket |\n",
    "| Data asset management | Apache Atlas, ODPi Egeria, and Kylo |"
   ],
   "metadata": {
    "collapsed": false
   }
  },
  {
   "cell_type": "markdown",
   "source": [
    "### Below are a few examples of evaluating arithmetic expressions in Python"
   ],
   "metadata": {
    "collapsed": false
   }
  },
  {
   "cell_type": "code",
   "execution_count": 1,
   "outputs": [
    {
     "data": {
      "text/plain": "17"
     },
     "execution_count": 1,
     "metadata": {},
     "output_type": "execute_result"
    }
   ],
   "source": [
    "(3*4)+5 #This a simple arithmetic expression to mutiply then add integers"
   ],
   "metadata": {
    "collapsed": false,
    "ExecuteTime": {
     "start_time": "2023-04-29T17:39:52.474604Z",
     "end_time": "2023-04-29T17:39:52.506696Z"
    }
   }
  },
  {
   "cell_type": "code",
   "execution_count": 2,
   "outputs": [
    {
     "data": {
      "text/plain": "3.3333333333333335"
     },
     "execution_count": 2,
     "metadata": {},
     "output_type": "execute_result"
    }
   ],
   "source": [
    "200 / 60 #This will convert 200 minutes to hours by diving by 60"
   ],
   "metadata": {
    "collapsed": false,
    "ExecuteTime": {
     "start_time": "2023-04-29T17:41:44.078048Z",
     "end_time": "2023-04-29T17:41:44.177466Z"
    }
   }
  },
  {
   "cell_type": "markdown",
   "source": [
    "___Objectives:___\n",
    "- Python\n",
    "- SQL\n",
    "- Scala"
   ],
   "metadata": {
    "collapsed": false
   }
  },
  {
   "cell_type": "markdown",
   "source": [
    "## Author\n",
    "\n",
    "[Pryhodzich Raman](https://www.linkedin.com/in/raman-pryhodzich-2b9970271/)"
   ],
   "metadata": {
    "collapsed": false
   }
  },
  {
   "cell_type": "code",
   "execution_count": null,
   "outputs": [],
   "source": [],
   "metadata": {
    "collapsed": false
   }
  }
 ],
 "metadata": {
  "kernelspec": {
   "name": "python3",
   "language": "python",
   "display_name": "Python 3 (ipykernel)"
  },
  "language_info": {
   "codemirror_mode": {
    "name": "ipython",
    "version": 3
   },
   "file_extension": ".py",
   "mimetype": "text/x-python",
   "name": "python",
   "nbconvert_exporter": "python",
   "pygments_lexer": "ipython3",
   "version": "3.7.12"
  }
 },
 "nbformat": 4,
 "nbformat_minor": 5
}
